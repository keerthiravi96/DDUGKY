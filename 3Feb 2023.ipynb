{
 "cells": [
  {
   "cell_type": "markdown",
   "id": "e44c520c",
   "metadata": {},
   "source": [
    "#### boolean masking\n"
   ]
  },
  {
   "cell_type": "code",
   "execution_count": 2,
   "id": "a35eee2d",
   "metadata": {},
   "outputs": [],
   "source": [
    "import pandas as pd\n",
    "import numpy as np\n",
    "import warnings\n",
    "warnings.filterwarnings('ignore')"
   ]
  },
  {
   "cell_type": "code",
   "execution_count": 3,
   "id": "46d9cace",
   "metadata": {},
   "outputs": [
    {
     "data": {
      "text/plain": [
       "3        8\n",
       "6       64\n",
       "7      128\n",
       "8      256\n",
       "9      512\n",
       "10    1024\n",
       "dtype: int64"
      ]
     },
     "execution_count": 3,
     "metadata": {},
     "output_type": "execute_result"
    }
   ],
   "source": [
    "twopowers_Sr=pd.Series([1,2,4,8,16,32,64,128,256,512,1024])\n",
    "BM=[False,False,False,True,False,False,True,True,True,True,True]\n",
    "twopowers_Sr[BM]"
   ]
  },
  {
   "cell_type": "code",
   "execution_count": 4,
   "id": "946f52dc",
   "metadata": {},
   "outputs": [
    {
     "data": {
      "text/plain": [
       "9      512\n",
       "10    1024\n",
       "dtype: int64"
      ]
     },
     "execution_count": 4,
     "metadata": {},
     "output_type": "execute_result"
    }
   ],
   "source": [
    "BM=twopowers_Sr>500\n",
    "twopowers_Sr[BM]"
   ]
  },
  {
   "cell_type": "code",
   "execution_count": 5,
   "id": "db5c3d33",
   "metadata": {},
   "outputs": [
    {
     "data": {
      "text/plain": [
       "0      1\n",
       "1      2\n",
       "2      4\n",
       "3      8\n",
       "4     16\n",
       "5     32\n",
       "6     64\n",
       "7    128\n",
       "8    256\n",
       "dtype: int64"
      ]
     },
     "execution_count": 5,
     "metadata": {},
     "output_type": "execute_result"
    }
   ],
   "source": [
    "BM=twopowers_Sr<500\n",
    "twopowers_Sr[BM]"
   ]
  },
  {
   "cell_type": "code",
   "execution_count": null,
   "id": "323e67f0",
   "metadata": {},
   "outputs": [],
   "source": []
  }
 ],
 "metadata": {
  "kernelspec": {
   "display_name": "Python 3 (ipykernel)",
   "language": "python",
   "name": "python3"
  },
  "language_info": {
   "codemirror_mode": {
    "name": "ipython",
    "version": 3
   },
   "file_extension": ".py",
   "mimetype": "text/x-python",
   "name": "python",
   "nbconvert_exporter": "python",
   "pygments_lexer": "ipython3",
   "version": "3.9.13"
  }
 },
 "nbformat": 4,
 "nbformat_minor": 5
}
