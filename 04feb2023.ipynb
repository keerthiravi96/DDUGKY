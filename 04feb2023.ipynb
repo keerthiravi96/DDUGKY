{
 "cells": [
  {
   "cell_type": "markdown",
   "id": "5447026e",
   "metadata": {},
   "source": [
    "### Boolean masking"
   ]
  },
  {
   "cell_type": "code",
   "execution_count": 1,
   "id": "b00d9938",
   "metadata": {},
   "outputs": [],
   "source": [
    "import pandas as pd\n",
    "import numpy as np\n",
    "import warnings\n",
    "warnings.filterwarnings('ignore')"
   ]
  },
  {
   "cell_type": "code",
   "execution_count": 2,
   "id": "f9776e39",
   "metadata": {},
   "outputs": [
    {
     "data": {
      "text/html": [
       "<div>\n",
       "<style scoped>\n",
       "    .dataframe tbody tr th:only-of-type {\n",
       "        vertical-align: middle;\n",
       "    }\n",
       "\n",
       "    .dataframe tbody tr th {\n",
       "        vertical-align: top;\n",
       "    }\n",
       "\n",
       "    .dataframe thead th {\n",
       "        text-align: right;\n",
       "    }\n",
       "</style>\n",
       "<table border=\"1\" class=\"dataframe\">\n",
       "  <thead>\n",
       "    <tr style=\"text-align: right;\">\n",
       "      <th></th>\n",
       "      <th>show_id</th>\n",
       "      <th>type</th>\n",
       "      <th>title</th>\n",
       "      <th>director</th>\n",
       "      <th>cast</th>\n",
       "      <th>country</th>\n",
       "      <th>date_added</th>\n",
       "      <th>release_year</th>\n",
       "      <th>rating</th>\n",
       "      <th>duration</th>\n",
       "      <th>listed_in</th>\n",
       "      <th>description</th>\n",
       "    </tr>\n",
       "  </thead>\n",
       "  <tbody>\n",
       "    <tr>\n",
       "      <th>0</th>\n",
       "      <td>s1</td>\n",
       "      <td>Movie</td>\n",
       "      <td>Dick Johnson Is Dead</td>\n",
       "      <td>Kirsten Johnson</td>\n",
       "      <td>NaN</td>\n",
       "      <td>United States</td>\n",
       "      <td>September 25, 2021</td>\n",
       "      <td>2020</td>\n",
       "      <td>PG-13</td>\n",
       "      <td>90 min</td>\n",
       "      <td>Documentaries</td>\n",
       "      <td>As her father nears the end of his life, filmm...</td>\n",
       "    </tr>\n",
       "    <tr>\n",
       "      <th>1</th>\n",
       "      <td>s2</td>\n",
       "      <td>TV Show</td>\n",
       "      <td>Blood &amp; Water</td>\n",
       "      <td>NaN</td>\n",
       "      <td>Ama Qamata, Khosi Ngema, Gail Mabalane, Thaban...</td>\n",
       "      <td>South Africa</td>\n",
       "      <td>September 24, 2021</td>\n",
       "      <td>2021</td>\n",
       "      <td>TV-MA</td>\n",
       "      <td>2 Seasons</td>\n",
       "      <td>International TV Shows, TV Dramas, TV Mysteries</td>\n",
       "      <td>After crossing paths at a party, a Cape Town t...</td>\n",
       "    </tr>\n",
       "    <tr>\n",
       "      <th>2</th>\n",
       "      <td>s3</td>\n",
       "      <td>TV Show</td>\n",
       "      <td>Ganglands</td>\n",
       "      <td>Julien Leclercq</td>\n",
       "      <td>Sami Bouajila, Tracy Gotoas, Samuel Jouy, Nabi...</td>\n",
       "      <td>NaN</td>\n",
       "      <td>September 24, 2021</td>\n",
       "      <td>2021</td>\n",
       "      <td>TV-MA</td>\n",
       "      <td>1 Season</td>\n",
       "      <td>Crime TV Shows, International TV Shows, TV Act...</td>\n",
       "      <td>To protect his family from a powerful drug lor...</td>\n",
       "    </tr>\n",
       "    <tr>\n",
       "      <th>3</th>\n",
       "      <td>s4</td>\n",
       "      <td>TV Show</td>\n",
       "      <td>Jailbirds New Orleans</td>\n",
       "      <td>NaN</td>\n",
       "      <td>NaN</td>\n",
       "      <td>NaN</td>\n",
       "      <td>September 24, 2021</td>\n",
       "      <td>2021</td>\n",
       "      <td>TV-MA</td>\n",
       "      <td>1 Season</td>\n",
       "      <td>Docuseries, Reality TV</td>\n",
       "      <td>Feuds, flirtations and toilet talk go down amo...</td>\n",
       "    </tr>\n",
       "    <tr>\n",
       "      <th>4</th>\n",
       "      <td>s5</td>\n",
       "      <td>TV Show</td>\n",
       "      <td>Kota Factory</td>\n",
       "      <td>NaN</td>\n",
       "      <td>Mayur More, Jitendra Kumar, Ranjan Raj, Alam K...</td>\n",
       "      <td>India</td>\n",
       "      <td>September 24, 2021</td>\n",
       "      <td>2021</td>\n",
       "      <td>TV-MA</td>\n",
       "      <td>2 Seasons</td>\n",
       "      <td>International TV Shows, Romantic TV Shows, TV ...</td>\n",
       "      <td>In a city of coaching centers known to train I...</td>\n",
       "    </tr>\n",
       "  </tbody>\n",
       "</table>\n",
       "</div>"
      ],
      "text/plain": [
       "  show_id     type                  title         director  \\\n",
       "0      s1    Movie   Dick Johnson Is Dead  Kirsten Johnson   \n",
       "1      s2  TV Show          Blood & Water              NaN   \n",
       "2      s3  TV Show              Ganglands  Julien Leclercq   \n",
       "3      s4  TV Show  Jailbirds New Orleans              NaN   \n",
       "4      s5  TV Show           Kota Factory              NaN   \n",
       "\n",
       "                                                cast        country  \\\n",
       "0                                                NaN  United States   \n",
       "1  Ama Qamata, Khosi Ngema, Gail Mabalane, Thaban...   South Africa   \n",
       "2  Sami Bouajila, Tracy Gotoas, Samuel Jouy, Nabi...            NaN   \n",
       "3                                                NaN            NaN   \n",
       "4  Mayur More, Jitendra Kumar, Ranjan Raj, Alam K...          India   \n",
       "\n",
       "           date_added  release_year rating   duration  \\\n",
       "0  September 25, 2021          2020  PG-13     90 min   \n",
       "1  September 24, 2021          2021  TV-MA  2 Seasons   \n",
       "2  September 24, 2021          2021  TV-MA   1 Season   \n",
       "3  September 24, 2021          2021  TV-MA   1 Season   \n",
       "4  September 24, 2021          2021  TV-MA  2 Seasons   \n",
       "\n",
       "                                           listed_in  \\\n",
       "0                                      Documentaries   \n",
       "1    International TV Shows, TV Dramas, TV Mysteries   \n",
       "2  Crime TV Shows, International TV Shows, TV Act...   \n",
       "3                             Docuseries, Reality TV   \n",
       "4  International TV Shows, Romantic TV Shows, TV ...   \n",
       "\n",
       "                                         description  \n",
       "0  As her father nears the end of his life, filmm...  \n",
       "1  After crossing paths at a party, a Cape Town t...  \n",
       "2  To protect his family from a powerful drug lor...  \n",
       "3  Feuds, flirtations and toilet talk go down amo...  \n",
       "4  In a city of coaching centers known to train I...  "
      ]
     },
     "execution_count": 2,
     "metadata": {},
     "output_type": "execute_result"
    }
   ],
   "source": [
    "df=pd.read_csv('netflix_titles_2021.csv')\n",
    "df.head()"
   ]
  },
  {
   "cell_type": "code",
   "execution_count": 3,
   "id": "b44acd2a",
   "metadata": {},
   "outputs": [
    {
     "data": {
      "text/plain": [
       "0       2020\n",
       "1       2021\n",
       "2       2021\n",
       "3       2021\n",
       "4       2021\n",
       "        ... \n",
       "8802    2007\n",
       "8803    2018\n",
       "8804    2009\n",
       "8805    2006\n",
       "8806    2015\n",
       "Name: release_year, Length: 8807, dtype: int64"
      ]
     },
     "execution_count": 3,
     "metadata": {},
     "output_type": "execute_result"
    }
   ],
   "source": [
    "df['release_year']"
   ]
  },
  {
   "cell_type": "code",
   "execution_count": 4,
   "id": "c73f7800",
   "metadata": {},
   "outputs": [
    {
     "data": {
      "text/plain": [
       "1    2021\n",
       "4    2021\n",
       "5    2007\n",
       "dtype: int64"
      ]
     },
     "execution_count": 4,
     "metadata": {},
     "output_type": "execute_result"
    }
   ],
   "source": [
    "release_year=pd.Series([2020,2021,2021,2021,2021,2007,2008])\n",
    "BM=[False,True,False,False,True,True,False]\n",
    "release_year[BM]"
   ]
  },
  {
   "cell_type": "code",
   "execution_count": 5,
   "id": "7cf4054e",
   "metadata": {},
   "outputs": [
    {
     "data": {
      "text/html": [
       "<div>\n",
       "<style scoped>\n",
       "    .dataframe tbody tr th:only-of-type {\n",
       "        vertical-align: middle;\n",
       "    }\n",
       "\n",
       "    .dataframe tbody tr th {\n",
       "        vertical-align: top;\n",
       "    }\n",
       "\n",
       "    .dataframe thead th {\n",
       "        text-align: right;\n",
       "    }\n",
       "</style>\n",
       "<table border=\"1\" class=\"dataframe\">\n",
       "  <thead>\n",
       "    <tr style=\"text-align: right;\">\n",
       "      <th></th>\n",
       "      <th>show_id</th>\n",
       "      <th>type</th>\n",
       "      <th>title</th>\n",
       "      <th>director</th>\n",
       "      <th>cast</th>\n",
       "      <th>country</th>\n",
       "      <th>date_added</th>\n",
       "      <th>release_year</th>\n",
       "      <th>rating</th>\n",
       "      <th>duration</th>\n",
       "      <th>listed_in</th>\n",
       "      <th>description</th>\n",
       "    </tr>\n",
       "  </thead>\n",
       "  <tbody>\n",
       "    <tr>\n",
       "      <th>0</th>\n",
       "      <td>s1</td>\n",
       "      <td>Movie</td>\n",
       "      <td>Dick Johnson Is Dead</td>\n",
       "      <td>Kirsten Johnson</td>\n",
       "      <td>NaN</td>\n",
       "      <td>United States</td>\n",
       "      <td>September 25, 2021</td>\n",
       "      <td>2020</td>\n",
       "      <td>PG-13</td>\n",
       "      <td>90 min</td>\n",
       "      <td>Documentaries</td>\n",
       "      <td>As her father nears the end of his life, filmm...</td>\n",
       "    </tr>\n",
       "    <tr>\n",
       "      <th>16</th>\n",
       "      <td>s17</td>\n",
       "      <td>Movie</td>\n",
       "      <td>Europe's Most Dangerous Man: Otto Skorzeny in ...</td>\n",
       "      <td>Pedro de Echave García, Pablo Azorín Williams</td>\n",
       "      <td>NaN</td>\n",
       "      <td>NaN</td>\n",
       "      <td>September 22, 2021</td>\n",
       "      <td>2020</td>\n",
       "      <td>TV-MA</td>\n",
       "      <td>67 min</td>\n",
       "      <td>Documentaries, International Movies</td>\n",
       "      <td>Declassified documents reveal the post-WWII li...</td>\n",
       "    </tr>\n",
       "    <tr>\n",
       "      <th>78</th>\n",
       "      <td>s79</td>\n",
       "      <td>Movie</td>\n",
       "      <td>Tughlaq Durbar</td>\n",
       "      <td>Delhiprasad Deenadayalan</td>\n",
       "      <td>Vijay Sethupathi, Parthiban, Raashi Khanna</td>\n",
       "      <td>NaN</td>\n",
       "      <td>September 11, 2021</td>\n",
       "      <td>2020</td>\n",
       "      <td>TV-14</td>\n",
       "      <td>145 min</td>\n",
       "      <td>Comedies, Dramas, International Movies</td>\n",
       "      <td>A budding politician has devious plans to rise...</td>\n",
       "    </tr>\n",
       "    <tr>\n",
       "      <th>84</th>\n",
       "      <td>s85</td>\n",
       "      <td>Movie</td>\n",
       "      <td>Omo Ghetto: the Saga</td>\n",
       "      <td>JJC Skillz, Funke Akindele</td>\n",
       "      <td>Funke Akindele, Ayo Makun, Chioma Chukwuka Akp...</td>\n",
       "      <td>Nigeria</td>\n",
       "      <td>September 10, 2021</td>\n",
       "      <td>2020</td>\n",
       "      <td>TV-MA</td>\n",
       "      <td>147 min</td>\n",
       "      <td>Action &amp; Adventure, Comedies, Dramas</td>\n",
       "      <td>Twins are reunited as a good-hearted female ga...</td>\n",
       "    </tr>\n",
       "    <tr>\n",
       "      <th>103</th>\n",
       "      <td>s104</td>\n",
       "      <td>Movie</td>\n",
       "      <td>Shadow Parties</td>\n",
       "      <td>Yemi Amodu</td>\n",
       "      <td>Jide Kosoko, Omotola Jalade-Ekeinde, Yemi Blaq...</td>\n",
       "      <td>NaN</td>\n",
       "      <td>September 6, 2021</td>\n",
       "      <td>2020</td>\n",
       "      <td>TV-MA</td>\n",
       "      <td>117 min</td>\n",
       "      <td>Dramas, International Movies, Thrillers</td>\n",
       "      <td>A family faces destruction in a long-running c...</td>\n",
       "    </tr>\n",
       "  </tbody>\n",
       "</table>\n",
       "</div>"
      ],
      "text/plain": [
       "    show_id   type                                              title  \\\n",
       "0        s1  Movie                               Dick Johnson Is Dead   \n",
       "16      s17  Movie  Europe's Most Dangerous Man: Otto Skorzeny in ...   \n",
       "78      s79  Movie                                     Tughlaq Durbar   \n",
       "84      s85  Movie                               Omo Ghetto: the Saga   \n",
       "103    s104  Movie                                     Shadow Parties   \n",
       "\n",
       "                                          director  \\\n",
       "0                                  Kirsten Johnson   \n",
       "16   Pedro de Echave García, Pablo Azorín Williams   \n",
       "78                        Delhiprasad Deenadayalan   \n",
       "84                      JJC Skillz, Funke Akindele   \n",
       "103                                     Yemi Amodu   \n",
       "\n",
       "                                                  cast        country  \\\n",
       "0                                                  NaN  United States   \n",
       "16                                                 NaN            NaN   \n",
       "78          Vijay Sethupathi, Parthiban, Raashi Khanna            NaN   \n",
       "84   Funke Akindele, Ayo Makun, Chioma Chukwuka Akp...        Nigeria   \n",
       "103  Jide Kosoko, Omotola Jalade-Ekeinde, Yemi Blaq...            NaN   \n",
       "\n",
       "             date_added  release_year rating duration  \\\n",
       "0    September 25, 2021          2020  PG-13   90 min   \n",
       "16   September 22, 2021          2020  TV-MA   67 min   \n",
       "78   September 11, 2021          2020  TV-14  145 min   \n",
       "84   September 10, 2021          2020  TV-MA  147 min   \n",
       "103   September 6, 2021          2020  TV-MA  117 min   \n",
       "\n",
       "                                   listed_in  \\\n",
       "0                              Documentaries   \n",
       "16       Documentaries, International Movies   \n",
       "78    Comedies, Dramas, International Movies   \n",
       "84      Action & Adventure, Comedies, Dramas   \n",
       "103  Dramas, International Movies, Thrillers   \n",
       "\n",
       "                                           description  \n",
       "0    As her father nears the end of his life, filmm...  \n",
       "16   Declassified documents reveal the post-WWII li...  \n",
       "78   A budding politician has devious plans to rise...  \n",
       "84   Twins are reunited as a good-hearted female ga...  \n",
       "103  A family faces destruction in a long-running c...  "
      ]
     },
     "execution_count": 5,
     "metadata": {},
     "output_type": "execute_result"
    }
   ],
   "source": [
    "df2=df.query('release_year==2020&type==\"Movie\"')\n",
    "df2.head()"
   ]
  },
  {
   "cell_type": "code",
   "execution_count": 7,
   "id": "7146f8a9",
   "metadata": {},
   "outputs": [
    {
     "data": {
      "text/plain": [
       "517"
      ]
     },
     "execution_count": 7,
     "metadata": {},
     "output_type": "execute_result"
    }
   ],
   "source": [
    "df2['type'].count()"
   ]
  },
  {
   "cell_type": "markdown",
   "id": "b787c202",
   "metadata": {},
   "source": [
    "### number of movies released in the year 2020 in all countries"
   ]
  },
  {
   "cell_type": "code",
   "execution_count": 8,
   "id": "e793efdf",
   "metadata": {},
   "outputs": [],
   "source": [
    "BM=df.release_year==2020"
   ]
  },
  {
   "cell_type": "code",
   "execution_count": 9,
   "id": "81dcfb89",
   "metadata": {},
   "outputs": [
    {
     "data": {
      "text/plain": [
       "United States                             336\n",
       "India                                      75\n",
       "United Kingdom                             44\n",
       "South Korea                                28\n",
       "Canada                                     26\n",
       "                                         ... \n",
       "Germany, Czech Republic                     1\n",
       "United States, Bulgaria                     1\n",
       "United Kingdom, France, Germany, Spain      1\n",
       "Thailand, United States                     1\n",
       "United States, South Korea, China           1\n",
       "Name: country, Length: 107, dtype: int64"
      ]
     },
     "execution_count": 9,
     "metadata": {},
     "output_type": "execute_result"
    }
   ],
   "source": [
    "df[BM].country.value_counts()"
   ]
  },
  {
   "cell_type": "code",
   "execution_count": 10,
   "id": "b4cbc804",
   "metadata": {},
   "outputs": [
    {
     "data": {
      "text/plain": [
       "United States                                                  129\n",
       "India                                                           49\n",
       "Hong Kong                                                       20\n",
       "Egypt                                                           11\n",
       "Poland                                                           7\n",
       "United Kingdom                                                   7\n",
       "United Kingdom, United States                                    6\n",
       "United States, United Kingdom                                    5\n",
       "Japan                                                            3\n",
       "Argentina                                                        2\n",
       "Italy, United States                                             2\n",
       "Australia, United States                                         2\n",
       "Lebanon, Canada, France                                          2\n",
       "Mexico                                                           2\n",
       "India, Soviet Union                                              2\n",
       "Hong Kong, China                                                 1\n",
       "Poland,                                                          1\n",
       "France                                                           1\n",
       "Italy, South Africa, West Germany, Australia, United States      1\n",
       "Poland, West Germany                                             1\n",
       "United States, Japan                                             1\n",
       "Italy, France                                                    1\n",
       "United States, Hong Kong                                         1\n",
       "Italy                                                            1\n",
       "United States, Canada                                            1\n",
       "United States, East Germany, West Germany                        1\n",
       "Hong Kong, United States                                         1\n",
       "India, Malaysia                                                  1\n",
       "United States, Italy, United Kingdom, Liechtenstein              1\n",
       "Ireland, United Kingdom, United States                           1\n",
       "Denmark, France, Poland                                          1\n",
       "West Germany                                                     1\n",
       "Soviet Union, India                                              1\n",
       "United Kingdom, West Germany                                     1\n",
       "Kuwait                                                           1\n",
       "France, Egypt                                                    1\n",
       "Egypt, Algeria                                                   1\n",
       "United States, Mexico                                            1\n",
       "France, Lebanon                                                  1\n",
       "France, Belgium, Italy                                           1\n",
       "Lebanon                                                          1\n",
       "Australia                                                        1\n",
       "Name: country, dtype: int64"
      ]
     },
     "execution_count": 10,
     "metadata": {},
     "output_type": "execute_result"
    }
   ],
   "source": [
    "BM=df.release_year<=1991\n",
    "df[BM].country.value_counts()"
   ]
  },
  {
   "cell_type": "code",
   "execution_count": 11,
   "id": "98b75069",
   "metadata": {},
   "outputs": [
    {
     "data": {
      "text/plain": [
       "array(['PG-13', 'TV-MA', 'PG', 'TV-14', 'TV-PG', 'TV-Y', 'TV-Y7', 'R',\n",
       "       'TV-G', 'G', 'NC-17', '74 min', '84 min', '66 min', 'NR', nan,\n",
       "       'TV-Y7-FV', 'UR'], dtype=object)"
      ]
     },
     "execution_count": 11,
     "metadata": {},
     "output_type": "execute_result"
    }
   ],
   "source": [
    "df.rating.unique()"
   ]
  },
  {
   "cell_type": "markdown",
   "id": "26a00e15",
   "metadata": {},
   "source": [
    "#### number of movies released in 2020"
   ]
  },
  {
   "cell_type": "code",
   "execution_count": 14,
   "id": "709dbc4c",
   "metadata": {},
   "outputs": [],
   "source": [
    "BM=df.release_year==2020"
   ]
  },
  {
   "cell_type": "code",
   "execution_count": 15,
   "id": "8c4f20b2",
   "metadata": {},
   "outputs": [
    {
     "data": {
      "text/plain": [
       "2020    953\n",
       "Name: release_year, dtype: int64"
      ]
     },
     "execution_count": 15,
     "metadata": {},
     "output_type": "execute_result"
    }
   ],
   "source": [
    "df[BM].release_year.value_counts()"
   ]
  },
  {
   "cell_type": "markdown",
   "id": "b7c3b8db",
   "metadata": {},
   "source": [
    "### count of movies in each countries"
   ]
  },
  {
   "cell_type": "code",
   "execution_count": 18,
   "id": "1afcf99b",
   "metadata": {},
   "outputs": [],
   "source": [
    "BM=df.type==\"Movie\""
   ]
  },
  {
   "cell_type": "code",
   "execution_count": 19,
   "id": "68bcd4ab",
   "metadata": {},
   "outputs": [
    {
     "data": {
      "text/plain": [
       "2017    767\n",
       "2018    767\n",
       "2016    658\n",
       "2019    633\n",
       "2020    517\n",
       "       ... \n",
       "1966      1\n",
       "1961      1\n",
       "1946      1\n",
       "1963      1\n",
       "1947      1\n",
       "Name: release_year, Length: 73, dtype: int64"
      ]
     },
     "execution_count": 19,
     "metadata": {},
     "output_type": "execute_result"
    }
   ],
   "source": [
    "df[BM].release_year.value_counts()"
   ]
  },
  {
   "cell_type": "markdown",
   "id": "53137daa",
   "metadata": {},
   "source": [
    "### count of movies in india each year"
   ]
  },
  {
   "cell_type": "code",
   "execution_count": 20,
   "id": "122a0456",
   "metadata": {},
   "outputs": [],
   "source": [
    "BM=df.country==\"India\""
   ]
  },
  {
   "cell_type": "code",
   "execution_count": 21,
   "id": "1d0ee102",
   "metadata": {},
   "outputs": [
    {
     "data": {
      "text/plain": [
       "2017    101\n",
       "2018     94\n",
       "2019     87\n",
       "2020     75\n",
       "2016     73\n",
       "2015     62\n",
       "2013     54\n",
       "2014     51\n",
       "2012     38\n",
       "2010     35\n",
       "2021     31\n",
       "2011     30\n",
       "2009     28\n",
       "2008     25\n",
       "2006     20\n",
       "2005     20\n",
       "2007     16\n",
       "2004     15\n",
       "2003     12\n",
       "2002     10\n",
       "2000      7\n",
       "2001      7\n",
       "1998      6\n",
       "1999      6\n",
       "1982      6\n",
       "1995      5\n",
       "1994      5\n",
       "1990      4\n",
       "1983      4\n",
       "1993      3\n",
       "1997      3\n",
       "1996      3\n",
       "1989      2\n",
       "1973      2\n",
       "1977      2\n",
       "1972      2\n",
       "1971      2\n",
       "1974      2\n",
       "1988      2\n",
       "1976      2\n",
       "1979      2\n",
       "1986      2\n",
       "1980      2\n",
       "1985      2\n",
       "1975      2\n",
       "1981      1\n",
       "1959      1\n",
       "1992      1\n",
       "1969      1\n",
       "1962      1\n",
       "1966      1\n",
       "1978      1\n",
       "1987      1\n",
       "1984      1\n",
       "1964      1\n",
       "Name: release_year, dtype: int64"
      ]
     },
     "execution_count": 21,
     "metadata": {},
     "output_type": "execute_result"
    }
   ],
   "source": [
    "df[BM].release_year.value_counts()"
   ]
  },
  {
   "cell_type": "code",
   "execution_count": null,
   "id": "0840c3c7",
   "metadata": {},
   "outputs": [],
   "source": []
  }
 ],
 "metadata": {
  "kernelspec": {
   "display_name": "Python 3 (ipykernel)",
   "language": "python",
   "name": "python3"
  },
  "language_info": {
   "codemirror_mode": {
    "name": "ipython",
    "version": 3
   },
   "file_extension": ".py",
   "mimetype": "text/x-python",
   "name": "python",
   "nbconvert_exporter": "python",
   "pygments_lexer": "ipython3",
   "version": "3.9.13"
  }
 },
 "nbformat": 4,
 "nbformat_minor": 5
}
